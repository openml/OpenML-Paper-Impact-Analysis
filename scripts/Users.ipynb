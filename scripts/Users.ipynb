{
 "cells": [
  {
   "cell_type": "markdown",
   "id": "d82d905e-8501-415b-a9b4-10401f7f0c6d",
   "metadata": {},
   "source": [
    "# Users by Year\n",
    "This notebook generates Figure 6b: users by year."
   ]
  },
  {
   "cell_type": "code",
   "execution_count": 1,
   "id": "0ed14e47-b7ea-4e82-a72c-f8a1c838f8ce",
   "metadata": {},
   "outputs": [],
   "source": [
    "import pandas as pd\n",
    "import seaborn as sns\n",
    "import matplotlib.pyplot as plt"
   ]
  },
  {
   "cell_type": "code",
   "execution_count": 2,
   "id": "710f6c3f-3435-426b-9679-65708328af28",
   "metadata": {},
   "outputs": [],
   "source": [
    "from pathlib import Path\n",
    "root = Path().cwd()\n",
    "if root.name == \"scripts\":\n",
    "    root = root.parent"
   ]
  },
  {
   "cell_type": "code",
   "execution_count": 3,
   "id": "7005a85a-1cd9-476e-9be6-71450633702d",
   "metadata": {},
   "outputs": [],
   "source": [
    "users = pd.read_csv(root / \"data/users.tsv\", sep=\"\\t\")"
   ]
  },
  {
   "cell_type": "markdown",
   "id": "03db7fd5-5cc3-4fd5-9aab-927807651fdf",
   "metadata": {},
   "source": [
    "We are only reporting number of active users, otherwise numbers may be influenced by bots creating accounts."
   ]
  },
  {
   "cell_type": "code",
   "execution_count": 4,
   "id": "c0ac7e55-af97-46d1-ba75-b0bbfbef7d62",
   "metadata": {},
   "outputs": [],
   "source": [
    "users = users[users['active'] == 1]"
   ]
  },
  {
   "cell_type": "code",
   "execution_count": 5,
   "id": "61f03201-9320-4f60-99a0-9e52e53d8cb5",
   "metadata": {},
   "outputs": [
    {
     "data": {
      "text/html": [
       "<div>\n",
       "<style scoped>\n",
       "    .dataframe tbody tr th:only-of-type {\n",
       "        vertical-align: middle;\n",
       "    }\n",
       "\n",
       "    .dataframe tbody tr th {\n",
       "        vertical-align: top;\n",
       "    }\n",
       "\n",
       "    .dataframe thead th {\n",
       "        text-align: right;\n",
       "    }\n",
       "</style>\n",
       "<table border=\"1\" class=\"dataframe\">\n",
       "  <thead>\n",
       "    <tr style=\"text-align: right;\">\n",
       "      <th></th>\n",
       "      <th>active</th>\n",
       "      <th>year</th>\n",
       "    </tr>\n",
       "  </thead>\n",
       "  <tbody>\n",
       "    <tr>\n",
       "      <th>0</th>\n",
       "      <td>1</td>\n",
       "      <td>2013</td>\n",
       "    </tr>\n",
       "    <tr>\n",
       "      <th>1</th>\n",
       "      <td>1</td>\n",
       "      <td>2013</td>\n",
       "    </tr>\n",
       "    <tr>\n",
       "      <th>2</th>\n",
       "      <td>1</td>\n",
       "      <td>2013</td>\n",
       "    </tr>\n",
       "    <tr>\n",
       "      <th>3</th>\n",
       "      <td>1</td>\n",
       "      <td>2013</td>\n",
       "    </tr>\n",
       "    <tr>\n",
       "      <th>4</th>\n",
       "      <td>1</td>\n",
       "      <td>2013</td>\n",
       "    </tr>\n",
       "  </tbody>\n",
       "</table>\n",
       "</div>"
      ],
      "text/plain": [
       "   active  year\n",
       "0       1  2013\n",
       "1       1  2013\n",
       "2       1  2013\n",
       "3       1  2013\n",
       "4       1  2013"
      ]
     },
     "execution_count": 5,
     "metadata": {},
     "output_type": "execute_result"
    }
   ],
   "source": [
    "users.head()"
   ]
  },
  {
   "cell_type": "code",
   "execution_count": 6,
   "id": "b5ea67f1-e826-4b53-b3a4-6613b2083719",
   "metadata": {},
   "outputs": [
    {
     "data": {
      "text/html": [
       "<div>\n",
       "<style scoped>\n",
       "    .dataframe tbody tr th:only-of-type {\n",
       "        vertical-align: middle;\n",
       "    }\n",
       "\n",
       "    .dataframe tbody tr th {\n",
       "        vertical-align: top;\n",
       "    }\n",
       "\n",
       "    .dataframe thead th {\n",
       "        text-align: right;\n",
       "    }\n",
       "</style>\n",
       "<table border=\"1\" class=\"dataframe\">\n",
       "  <thead>\n",
       "    <tr style=\"text-align: right;\">\n",
       "      <th></th>\n",
       "      <th>year</th>\n",
       "      <th>active</th>\n",
       "      <th>cumulative</th>\n",
       "    </tr>\n",
       "  </thead>\n",
       "  <tbody>\n",
       "    <tr>\n",
       "      <th>0</th>\n",
       "      <td>1970</td>\n",
       "      <td>14228</td>\n",
       "      <td>14228</td>\n",
       "    </tr>\n",
       "    <tr>\n",
       "      <th>1</th>\n",
       "      <td>2013</td>\n",
       "      <td>39</td>\n",
       "      <td>14267</td>\n",
       "    </tr>\n",
       "    <tr>\n",
       "      <th>2</th>\n",
       "      <td>2014</td>\n",
       "      <td>202</td>\n",
       "      <td>14469</td>\n",
       "    </tr>\n",
       "    <tr>\n",
       "      <th>3</th>\n",
       "      <td>2015</td>\n",
       "      <td>516</td>\n",
       "      <td>14985</td>\n",
       "    </tr>\n",
       "    <tr>\n",
       "      <th>4</th>\n",
       "      <td>2016</td>\n",
       "      <td>1108</td>\n",
       "      <td>16093</td>\n",
       "    </tr>\n",
       "  </tbody>\n",
       "</table>\n",
       "</div>"
      ],
      "text/plain": [
       "   year  active  cumulative\n",
       "0  1970   14228       14228\n",
       "1  2013      39       14267\n",
       "2  2014     202       14469\n",
       "3  2015     516       14985\n",
       "4  2016    1108       16093"
      ]
     },
     "execution_count": 6,
     "metadata": {},
     "output_type": "execute_result"
    }
   ],
   "source": [
    "count_by_year = users.groupby([\"year\"], as_index=False).count()\n",
    "count_by_year[\"cumulative\"] = count_by_year[\"active\"].cumsum()\n",
    "count_by_year.head()"
   ]
  },
  {
   "cell_type": "code",
   "execution_count": 7,
   "id": "9aad373e-7a64-450a-b59e-80d56fe119d4",
   "metadata": {},
   "outputs": [
    {
     "data": {
      "text/plain": [
       "Text(0, 0.5, 'Number of Users')"
      ]
     },
     "execution_count": 7,
     "metadata": {},
     "output_type": "execute_result"
    },
    {
     "data": {
      "image/png": "[encoded data removed]",
      "text/plain": [
       "<Figure size 640x480 with 1 Axes>"
      ]
     },
     "metadata": {},
     "output_type": "display_data"
    }
   ],
   "source": [
    "# Plot the total crashes\n",
    "sns.set_color_codes(\"pastel\")\n",
    "sns.barplot(x=\"year\", y=\"cumulative\", data=count_by_year,\n",
    "            label=\"Total\", color=\"b\")\n",
    "\n",
    "# Plot the crashes where alcohol was involved\n",
    "sns.set_color_codes(\"muted\")\n",
    "plot = sns.barplot(x=\"year\", y=\"active\", data=count_by_year,\n",
    "            label=\"New\", color=\"b\")\n",
    "\n",
    "plot.set_title(\"Registered Users by Year\")\n",
    "plot.set_ylabel(\"Number of Users\")"
   ]
  },
  {
   "cell_type": "markdown",
   "id": "b42407b2-d9e7-48db-91fe-a15e875912f1",
   "metadata": {},
   "source": [
    "As we see, for many users information on account creation is missing. This seems to have started in 2021 or 2022.\n",
    "Luckily, a few users have information logged in later years:"
   ]
  },
  {
   "cell_type": "code",
   "execution_count": 8,
   "id": "1124662c-7c5b-404b-8c34-4d4b59339753",
   "metadata": {},
   "outputs": [
    {
     "data": {
      "text/html": [
       "<div>\n",
       "<style scoped>\n",
       "    .dataframe tbody tr th:only-of-type {\n",
       "        vertical-align: middle;\n",
       "    }\n",
       "\n",
       "    .dataframe tbody tr th {\n",
       "        vertical-align: top;\n",
       "    }\n",
       "\n",
       "    .dataframe thead th {\n",
       "        text-align: right;\n",
       "    }\n",
       "</style>\n",
       "<table border=\"1\" class=\"dataframe\">\n",
       "  <thead>\n",
       "    <tr style=\"text-align: right;\">\n",
       "      <th></th>\n",
       "      <th>active</th>\n",
       "      <th>year</th>\n",
       "    </tr>\n",
       "  </thead>\n",
       "  <tbody>\n",
       "    <tr>\n",
       "      <th>29331</th>\n",
       "      <td>1</td>\n",
       "      <td>2022</td>\n",
       "    </tr>\n",
       "    <tr>\n",
       "      <th>35131</th>\n",
       "      <td>1</td>\n",
       "      <td>2023</td>\n",
       "    </tr>\n",
       "    <tr>\n",
       "      <th>40661</th>\n",
       "      <td>1</td>\n",
       "      <td>2024</td>\n",
       "    </tr>\n",
       "    <tr>\n",
       "      <th>46774</th>\n",
       "      <td>1</td>\n",
       "      <td>2025</td>\n",
       "    </tr>\n",
       "  </tbody>\n",
       "</table>\n",
       "</div>"
      ],
      "text/plain": [
       "       active  year\n",
       "29331       1  2022\n",
       "35131       1  2023\n",
       "40661       1  2024\n",
       "46774       1  2025"
      ]
     },
     "execution_count": 8,
     "metadata": {},
     "output_type": "execute_result"
    }
   ],
   "source": [
    "users[users.year>2021].drop_duplicates(subset=\"year\", keep=\"first\")"
   ]
  },
  {
   "cell_type": "code",
   "execution_count": 9,
   "id": "862fedd4-a634-4794-ac8a-09d996c7fe71",
   "metadata": {},
   "outputs": [
    {
     "data": {
      "text/html": [
       "<div>\n",
       "<style scoped>\n",
       "    .dataframe tbody tr th:only-of-type {\n",
       "        vertical-align: middle;\n",
       "    }\n",
       "\n",
       "    .dataframe tbody tr th {\n",
       "        vertical-align: top;\n",
       "    }\n",
       "\n",
       "    .dataframe thead th {\n",
       "        text-align: right;\n",
       "    }\n",
       "</style>\n",
       "<table border=\"1\" class=\"dataframe\">\n",
       "  <thead>\n",
       "    <tr style=\"text-align: right;\">\n",
       "      <th></th>\n",
       "      <th>active</th>\n",
       "      <th>year</th>\n",
       "    </tr>\n",
       "  </thead>\n",
       "  <tbody>\n",
       "    <tr>\n",
       "      <th>33021</th>\n",
       "      <td>1</td>\n",
       "      <td>2022</td>\n",
       "    </tr>\n",
       "    <tr>\n",
       "      <th>39134</th>\n",
       "      <td>1</td>\n",
       "      <td>2023</td>\n",
       "    </tr>\n",
       "    <tr>\n",
       "      <th>46144</th>\n",
       "      <td>1</td>\n",
       "      <td>2024</td>\n",
       "    </tr>\n",
       "    <tr>\n",
       "      <th>47067</th>\n",
       "      <td>1</td>\n",
       "      <td>2025</td>\n",
       "    </tr>\n",
       "  </tbody>\n",
       "</table>\n",
       "</div>"
      ],
      "text/plain": [
       "       active  year\n",
       "33021       1  2022\n",
       "39134       1  2023\n",
       "46144       1  2024\n",
       "47067       1  2025"
      ]
     },
     "execution_count": 9,
     "metadata": {},
     "output_type": "execute_result"
    }
   ],
   "source": [
    "users[users.year>2021].drop_duplicates(subset=\"year\", keep=\"last\")"
   ]
  },
  {
   "cell_type": "markdown",
   "id": "d5508f47-712d-45d0-a655-5a7315122d5d",
   "metadata": {},
   "source": [
    "Since user ids are sequential, we can use these fairly reliable to impute the missing creation years."
   ]
  },
  {
   "cell_type": "code",
   "execution_count": 10,
   "id": "15932fe0-48ae-480b-81b5-d267576ad570",
   "metadata": {},
   "outputs": [],
   "source": [
    "users.loc[users.year == 1970, 'year'] = float('nan')"
   ]
  },
  {
   "cell_type": "code",
   "execution_count": 11,
   "id": "da7931dc-6b4a-4f1f-aa1b-ee73d4e67aff",
   "metadata": {},
   "outputs": [],
   "source": [
    "first = users[users.year>2021].drop_duplicates(subset=\"year\", keep=\"first\")[\"year\"].to_dict()\n",
    "last = users[users.year>2021].drop_duplicates(subset=\"year\", keep=\"last\")[\"year\"].to_dict()\n",
    "borders = first | last"
   ]
  },
  {
   "cell_type": "code",
   "execution_count": 12,
   "id": "9af2c3b4-1365-4c2b-afcc-087fd4354668",
   "metadata": {},
   "outputs": [],
   "source": [
    "def fill_nearest(row):\n",
    "    nearest_id, year = min((abs(row.name - border_id), year) for border_id, year in borders.items())\n",
    "    row['year'] = year\n",
    "    return row"
   ]
  },
  {
   "cell_type": "code",
   "execution_count": 13,
   "id": "0a6fb674-d480-4f22-92ac-45935fc80efa",
   "metadata": {},
   "outputs": [],
   "source": [
    "imputed_years = users[users['year'].isna()].apply(fill_nearest, axis=1)"
   ]
  },
  {
   "cell_type": "code",
   "execution_count": 14,
   "id": "56d39520-ec1b-4955-b804-3f77d96a7ab2",
   "metadata": {},
   "outputs": [],
   "source": [
    "assert users['year'].isna().sum() == len(imputed_years), \"Should only have imputation data for missing values\""
   ]
  },
  {
   "cell_type": "code",
   "execution_count": 15,
   "id": "4a86bb1e-b76b-41f0-b23b-d8802d1b3ff1",
   "metadata": {},
   "outputs": [],
   "source": [
    "users.loc[imputed_years.index, 'year'] = imputed_years['year']"
   ]
  },
  {
   "cell_type": "markdown",
   "id": "e04d844c-6120-45c1-94be-2ce39702e817",
   "metadata": {},
   "source": [
    "Some sanity checks: no more missing years. The item after the last entry from 2023 is backfilled, while the entry before the first one from 2024 is forward filled:"
   ]
  },
  {
   "cell_type": "code",
   "execution_count": 16,
   "id": "ab8750c7-8bc7-456b-809a-ff5030ef50b8",
   "metadata": {},
   "outputs": [],
   "source": [
    "assert not users['year'].isna().any()"
   ]
  },
  {
   "cell_type": "code",
   "execution_count": 17,
   "id": "fed09cc2-cb1f-4be4-af49-4b00d2792082",
   "metadata": {},
   "outputs": [
    {
     "data": {
      "text/html": [
       "<div>\n",
       "<style scoped>\n",
       "    .dataframe tbody tr th:only-of-type {\n",
       "        vertical-align: middle;\n",
       "    }\n",
       "\n",
       "    .dataframe tbody tr th {\n",
       "        vertical-align: top;\n",
       "    }\n",
       "\n",
       "    .dataframe thead th {\n",
       "        text-align: right;\n",
       "    }\n",
       "</style>\n",
       "<table border=\"1\" class=\"dataframe\">\n",
       "  <thead>\n",
       "    <tr style=\"text-align: right;\">\n",
       "      <th></th>\n",
       "      <th>active</th>\n",
       "      <th>year</th>\n",
       "    </tr>\n",
       "  </thead>\n",
       "  <tbody>\n",
       "    <tr>\n",
       "      <th>39134</th>\n",
       "      <td>1</td>\n",
       "      <td>2023.0</td>\n",
       "    </tr>\n",
       "    <tr>\n",
       "      <th>39135</th>\n",
       "      <td>1</td>\n",
       "      <td>2023.0</td>\n",
       "    </tr>\n",
       "    <tr>\n",
       "      <th>40660</th>\n",
       "      <td>1</td>\n",
       "      <td>2024.0</td>\n",
       "    </tr>\n",
       "    <tr>\n",
       "      <th>40661</th>\n",
       "      <td>1</td>\n",
       "      <td>2024.0</td>\n",
       "    </tr>\n",
       "  </tbody>\n",
       "</table>\n",
       "</div>"
      ],
      "text/plain": [
       "       active    year\n",
       "39134       1  2023.0\n",
       "39135       1  2023.0\n",
       "40660       1  2024.0\n",
       "40661       1  2024.0"
      ]
     },
     "execution_count": 17,
     "metadata": {},
     "output_type": "execute_result"
    }
   ],
   "source": [
    "users.loc[[39134, 39135, 40660, 40661]]"
   ]
  },
  {
   "cell_type": "code",
   "execution_count": 22,
   "id": "6c6c629b-c550-4b37-b22c-2077397c0531",
   "metadata": {},
   "outputs": [
    {
     "data": {
      "text/html": [
       "<div>\n",
       "<style scoped>\n",
       "    .dataframe tbody tr th:only-of-type {\n",
       "        vertical-align: middle;\n",
       "    }\n",
       "\n",
       "    .dataframe tbody tr th {\n",
       "        vertical-align: top;\n",
       "    }\n",
       "\n",
       "    .dataframe thead th {\n",
       "        text-align: right;\n",
       "    }\n",
       "</style>\n",
       "<table border=\"1\" class=\"dataframe\">\n",
       "  <thead>\n",
       "    <tr style=\"text-align: right;\">\n",
       "      <th></th>\n",
       "      <th>year</th>\n",
       "      <th>active</th>\n",
       "      <th>cumulative</th>\n",
       "    </tr>\n",
       "  </thead>\n",
       "  <tbody>\n",
       "    <tr>\n",
       "      <th>0</th>\n",
       "      <td>2013</td>\n",
       "      <td>39</td>\n",
       "      <td>39</td>\n",
       "    </tr>\n",
       "    <tr>\n",
       "      <th>1</th>\n",
       "      <td>2014</td>\n",
       "      <td>202</td>\n",
       "      <td>241</td>\n",
       "    </tr>\n",
       "    <tr>\n",
       "      <th>2</th>\n",
       "      <td>2015</td>\n",
       "      <td>516</td>\n",
       "      <td>757</td>\n",
       "    </tr>\n",
       "    <tr>\n",
       "      <th>3</th>\n",
       "      <td>2016</td>\n",
       "      <td>1108</td>\n",
       "      <td>1865</td>\n",
       "    </tr>\n",
       "    <tr>\n",
       "      <th>4</th>\n",
       "      <td>2017</td>\n",
       "      <td>2011</td>\n",
       "      <td>3876</td>\n",
       "    </tr>\n",
       "  </tbody>\n",
       "</table>\n",
       "</div>"
      ],
      "text/plain": [
       "   year  active  cumulative\n",
       "0  2013      39          39\n",
       "1  2014     202         241\n",
       "2  2015     516         757\n",
       "3  2016    1108        1865\n",
       "4  2017    2011        3876"
      ]
     },
     "execution_count": 22,
     "metadata": {},
     "output_type": "execute_result"
    }
   ],
   "source": [
    "count_by_year = users.groupby([\"year\"], as_index=False).count()\n",
    "count_by_year[\"cumulative\"] = count_by_year[\"active\"].cumsum()\n",
    "\n",
    "count_by_year['year'] = count_by_year['year'].astype(int)\n",
    "count_by_year = count_by_year[count_by_year['year'] < 2025]\n",
    "count_by_year.head()"
   ]
  },
  {
   "cell_type": "code",
   "execution_count": 21,
   "id": "11ecad40-d11f-4fe7-8289-735582257dde",
   "metadata": {},
   "outputs": [
    {
     "data": {
      "image/png": "[encoded data removed]",
      "text/plain": [
       "<Figure size 640x480 with 1 Axes>"
      ]
     },
     "metadata": {},
     "output_type": "display_data"
    }
   ],
   "source": [
    "# Plot the total crashes\n",
    "sns.set_color_codes(\"pastel\")\n",
    "sns.barplot(x=\"year\", y=\"cumulative\", data=count_by_year,\n",
    "            label=\"Total\", color=\"b\")\n",
    "\n",
    "# Plot the crashes where alcohol was involved\n",
    "sns.set_color_codes(\"muted\")\n",
    "plot = sns.barplot(x=\"year\", y=\"active\", data=count_by_year,\n",
    "            label=\"New\", color=\"b\")\n",
    "\n",
    "plot.set_title(\"Verified Users by Year\", fontsize=20, y=1.03)\n",
    "plot.set_ylabel(\"Number of Users\", fontsize=18)\n",
    "plot.set_xlabel(\"Year\", fontsize=18)\n",
    "\n",
    "plot.tick_params(axis='y', which='major', labelsize=14)\n",
    "plot.tick_params(axis='x', which='major', labelsize=14, labelrotation=-45)\n",
    "plot.legend(fontsize=16)\n",
    "sns.despine(ax=plot)\n",
    "\n",
    "from matplotlib.backends.backend_pdf import PdfPages\n",
    "with PdfPages(root / \"figures/users_by_year.pdf\") as fh:\n",
    "    fh.savefig(plot.get_figure(), bbox_inches=\"tight\")"
   ]
  },
  {
   "cell_type": "code",
   "execution_count": null,
   "id": "13ceae00-d7dc-410a-8748-e2d33a5c6d31",
   "metadata": {},
   "outputs": [],
   "source": []
  }
 ],
 "metadata": {
  "kernelspec": {
   "display_name": "Python 3 (ipykernel)",
   "language": "python",
   "name": "python3"
  },
  "language_info": {
   "codemirror_mode": {
    "name": "ipython",
    "version": 3
   },
   "file_extension": ".py",
   "mimetype": "text/x-python",
   "name": "python",
   "nbconvert_exporter": "python",
   "pygments_lexer": "ipython3",
   "version": "3.12.7"
  }
 },
 "nbformat": 4,
 "nbformat_minor": 5
}
